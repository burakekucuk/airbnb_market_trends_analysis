{
 "cells": [
  {
   "cell_type": "markdown",
   "id": "f823cdf5-57b3-4fd7-9123-6bf50d9e10cd",
   "metadata": {},
   "source": [
    "# Airbnb Market Trends Analysis\n",
    "\n",
    "## Project Overview\n",
    "\n",
    "In this project, I explore key trends within the Airbnb market by analyzing listing prices, room types, and review activity. The goal is to uncover valuable insights that could be useful for Airbnb hosts, investors, or those interested in the short-term rental market.\n",
    "\n",
    "### Objectives:\n",
    "- Analyze room type distribution to understand market offerings.\n",
    "- Calculate the average listing price.\n",
    "- Examine review trends over time to identify user engagement.\n",
    "- Summarize key metrics such as the earliest and latest review dates, number of private rooms, and average price."
   ]
  },
  {
   "cell_type": "markdown",
   "id": "597c2249-4421-429a-bc3f-4f9fc3c8759e",
   "metadata": {},
   "source": [
    "## Data Overview\n",
    "\n",
    "I work with three datasets:\n",
    "1. **`airbnb_price.csv`**: Contains price information for Airbnb listings.\n",
    "2. **`airbnb_room_type.xlsx`**: Contains details about the types of rooms offered (e.g., Private Room, Entire Home, etc.).\n",
    "3. **`airbnb_last_review.tsv`**: Contains the date of the most recent review for each listing."
   ]
  },
  {
   "cell_type": "markdown",
   "id": "30afc997-a9e5-4aa6-af22-c0c8023cb390",
   "metadata": {},
   "source": [
    "## Step-by-Step Analysis"
   ]
  },
  {
   "cell_type": "markdown",
   "id": "3fe2c94b-f5dd-48e9-8fde-c276a9ffd069",
   "metadata": {},
   "source": [
    "### 1. Import Libraries\n",
    "\n",
    "I start by importing the necessary libraries for data manipulation and visualization."
   ]
  },
  {
   "cell_type": "code",
   "execution_count": 130,
   "id": "79d5a04f-1f3a-4dbf-8d08-1f301d6e4913",
   "metadata": {},
   "outputs": [],
   "source": [
    "import pandas as pd\n",
    "import numpy as np\n",
    "import matplotlib.pyplot as plt"
   ]
  },
  {
   "cell_type": "markdown",
   "id": "280777d4-ccd7-46c3-8188-f0eba90f1a3b",
   "metadata": {},
   "source": [
    "### 2. Loading the Data\n",
    "\n",
    "I load the data from the provided CSV, Excel, and TSV files into separate Pandas DataFrames."
   ]
  },
  {
   "cell_type": "code",
   "execution_count": 133,
   "id": "1c4c6136-5ade-4b17-828b-9af2a823001e",
   "metadata": {},
   "outputs": [],
   "source": [
    "price = pd.read_csv('/Users/burakemrekucuk/Desktop/Data Analysis Projects/Airbnb Market Trends/airbnb_price.csv')\n",
    "room = pd.read_excel('/Users/burakemrekucuk/Desktop/Data Analysis Projects/Airbnb Market Trends/airbnb_room_type.xlsx')\n",
    "review = pd.read_csv('/Users/burakemrekucuk/Desktop/Data Analysis Projects/Airbnb Market Trends/airbnb_last_review.tsv', sep='\\t')"
   ]
  },
  {
   "cell_type": "markdown",
   "id": "75bfbf0b-94b5-495d-93f4-bc0e3f2424a9",
   "metadata": {},
   "source": [
    "### 3. Data Inspection\n",
    "I inspect the first few rows of each DataFrame to verify that the data has been loaded correctly."
   ]
  },
  {
   "cell_type": "code",
   "execution_count": 138,
   "id": "c9da79f6-87e8-4364-ae34-f6a162816143",
   "metadata": {},
   "outputs": [
    {
     "name": "stdout",
     "output_type": "stream",
     "text": [
      "   listing_id        price                nbhood_full\n",
      "0        2595  225 dollars         Manhattan, Midtown\n",
      "1        3831   89 dollars     Brooklyn, Clinton Hill\n",
      "2        5099  200 dollars     Manhattan, Murray Hill\n",
      "3        5178   79 dollars  Manhattan, Hell's Kitchen\n",
      "4        5238  150 dollars       Manhattan, Chinatown\n",
      "   listing_id                                description        room_type\n",
      "0        2595                      Skylit Midtown Castle  Entire home/apt\n",
      "1        3831            Cozy Entire Floor of Brownstone  Entire home/apt\n",
      "2        5099  Large Cozy 1 BR Apartment In Midtown East  Entire home/apt\n",
      "3        5178            Large Furnished Room Near B'way     private room\n",
      "4        5238         Cute & Cozy Lower East Side 1 bdrm  Entire home/apt\n",
      "   listing_id    host_name   last_review\n",
      "0        2595     Jennifer   May 21 2019\n",
      "1        3831  LisaRoxanne  July 05 2019\n",
      "2        5099        Chris  June 22 2019\n",
      "3        5178     Shunichi  June 24 2019\n",
      "4        5238          Ben  June 09 2019\n"
     ]
    }
   ],
   "source": [
    "# Check the first few rows of each DataFrame\n",
    "print(price.head())\n",
    "print(room.head())\n",
    "print(review.head())"
   ]
  },
  {
   "cell_type": "markdown",
   "id": "49d010b1-802d-4b28-86f2-a65de35ae171",
   "metadata": {},
   "source": [
    "### 4. Merging the DataFrames\n",
    "\n",
    "To work with all the data together, I merge the price, room, and review DataFrames on the common listing_id column."
   ]
  },
  {
   "cell_type": "code",
   "execution_count": 141,
   "id": "f63df65a-ec72-45ac-af73-1984c36f2b56",
   "metadata": {},
   "outputs": [
    {
     "data": {
      "text/html": [
       "<div>\n",
       "<style scoped>\n",
       "    .dataframe tbody tr th:only-of-type {\n",
       "        vertical-align: middle;\n",
       "    }\n",
       "\n",
       "    .dataframe tbody tr th {\n",
       "        vertical-align: top;\n",
       "    }\n",
       "\n",
       "    .dataframe thead th {\n",
       "        text-align: right;\n",
       "    }\n",
       "</style>\n",
       "<table border=\"1\" class=\"dataframe\">\n",
       "  <thead>\n",
       "    <tr style=\"text-align: right;\">\n",
       "      <th></th>\n",
       "      <th>listing_id</th>\n",
       "      <th>price</th>\n",
       "      <th>nbhood_full</th>\n",
       "      <th>description</th>\n",
       "      <th>room_type</th>\n",
       "      <th>host_name</th>\n",
       "      <th>last_review</th>\n",
       "    </tr>\n",
       "  </thead>\n",
       "  <tbody>\n",
       "    <tr>\n",
       "      <th>0</th>\n",
       "      <td>2595</td>\n",
       "      <td>225 dollars</td>\n",
       "      <td>Manhattan, Midtown</td>\n",
       "      <td>Skylit Midtown Castle</td>\n",
       "      <td>Entire home/apt</td>\n",
       "      <td>Jennifer</td>\n",
       "      <td>May 21 2019</td>\n",
       "    </tr>\n",
       "    <tr>\n",
       "      <th>1</th>\n",
       "      <td>3831</td>\n",
       "      <td>89 dollars</td>\n",
       "      <td>Brooklyn, Clinton Hill</td>\n",
       "      <td>Cozy Entire Floor of Brownstone</td>\n",
       "      <td>Entire home/apt</td>\n",
       "      <td>LisaRoxanne</td>\n",
       "      <td>July 05 2019</td>\n",
       "    </tr>\n",
       "    <tr>\n",
       "      <th>2</th>\n",
       "      <td>5099</td>\n",
       "      <td>200 dollars</td>\n",
       "      <td>Manhattan, Murray Hill</td>\n",
       "      <td>Large Cozy 1 BR Apartment In Midtown East</td>\n",
       "      <td>Entire home/apt</td>\n",
       "      <td>Chris</td>\n",
       "      <td>June 22 2019</td>\n",
       "    </tr>\n",
       "    <tr>\n",
       "      <th>3</th>\n",
       "      <td>5178</td>\n",
       "      <td>79 dollars</td>\n",
       "      <td>Manhattan, Hell's Kitchen</td>\n",
       "      <td>Large Furnished Room Near B'way</td>\n",
       "      <td>private room</td>\n",
       "      <td>Shunichi</td>\n",
       "      <td>June 24 2019</td>\n",
       "    </tr>\n",
       "    <tr>\n",
       "      <th>4</th>\n",
       "      <td>5238</td>\n",
       "      <td>150 dollars</td>\n",
       "      <td>Manhattan, Chinatown</td>\n",
       "      <td>Cute &amp; Cozy Lower East Side 1 bdrm</td>\n",
       "      <td>Entire home/apt</td>\n",
       "      <td>Ben</td>\n",
       "      <td>June 09 2019</td>\n",
       "    </tr>\n",
       "  </tbody>\n",
       "</table>\n",
       "</div>"
      ],
      "text/plain": [
       "   listing_id        price                nbhood_full  \\\n",
       "0        2595  225 dollars         Manhattan, Midtown   \n",
       "1        3831   89 dollars     Brooklyn, Clinton Hill   \n",
       "2        5099  200 dollars     Manhattan, Murray Hill   \n",
       "3        5178   79 dollars  Manhattan, Hell's Kitchen   \n",
       "4        5238  150 dollars       Manhattan, Chinatown   \n",
       "\n",
       "                                 description        room_type    host_name  \\\n",
       "0                      Skylit Midtown Castle  Entire home/apt     Jennifer   \n",
       "1            Cozy Entire Floor of Brownstone  Entire home/apt  LisaRoxanne   \n",
       "2  Large Cozy 1 BR Apartment In Midtown East  Entire home/apt        Chris   \n",
       "3            Large Furnished Room Near B'way     private room     Shunichi   \n",
       "4         Cute & Cozy Lower East Side 1 bdrm  Entire home/apt          Ben   \n",
       "\n",
       "    last_review  \n",
       "0   May 21 2019  \n",
       "1  July 05 2019  \n",
       "2  June 22 2019  \n",
       "3  June 24 2019  \n",
       "4  June 09 2019  "
      ]
     },
     "execution_count": 141,
     "metadata": {},
     "output_type": "execute_result"
    }
   ],
   "source": [
    "# Merge the DataFrames on 'listing_id'\n",
    "merged_df = pd.merge(price, room, on='listing_id')\n",
    "merged_df = pd.merge(merged_df, review, on='listing_id')\n",
    "\n",
    "# Display the merged DataFrame\n",
    "merged_df.head()"
   ]
  },
  {
   "cell_type": "markdown",
   "id": "e24e3dc0-1b3e-4398-baa3-011e24997dc9",
   "metadata": {},
   "source": [
    "### 5. Converting and Finding Review Dates\n",
    "\n",
    "The last_review column is converted to the correct datetime format to enable analysis of review trends. I also calculate the first and last review dates in the dataset."
   ]
  },
  {
   "cell_type": "code",
   "execution_count": 144,
   "id": "ef0d4e25-0b66-4324-921b-a76a9ac58940",
   "metadata": {},
   "outputs": [
    {
     "name": "stdout",
     "output_type": "stream",
     "text": [
      "First reviewed date: 2019-01-01 00:00:00\n",
      "Last reviewed date: 2019-07-09 00:00:00\n"
     ]
    }
   ],
   "source": [
    "# Convert 'last_review' to datetime and find the earliest and most recent dates\n",
    "review['last_review'] = pd.to_datetime(review['last_review'])\n",
    "\n",
    "first_reviewed = review['last_review'].min()\n",
    "last_reviewed = review['last_review'].max()\n",
    "\n",
    "print(f\"First reviewed date: {first_reviewed}\")\n",
    "print(f\"Last reviewed date: {last_reviewed}\")"
   ]
  },
  {
   "cell_type": "markdown",
   "id": "2da62ff2-d705-42d2-b06d-ad0b51d379c6",
   "metadata": {},
   "source": [
    "### 6. Counting Private Room Listings\n",
    "\n",
    "I clean the room_type column by converting all text to lowercase to ensure consistency. Then, I count the number of listings that are private rooms."
   ]
  },
  {
   "cell_type": "code",
   "execution_count": 154,
   "id": "df59f345-5c30-43dd-9a7a-81e644855843",
   "metadata": {},
   "outputs": [
    {
     "name": "stdout",
     "output_type": "stream",
     "text": [
      "Number of private room listings: 11356\n"
     ]
    }
   ],
   "source": [
    "# Clean 'room_type' and count private room listings\n",
    "room['room_type'] = room['room_type'].str.lower()\n",
    "private_room_count = room[room['room_type'] == 'private room'].shape[0]\n",
    "\n",
    "print(f\"Number of private room listings: {private_room_count}\")"
   ]
  },
  {
   "cell_type": "markdown",
   "id": "58539920-138a-4f12-9840-93dd7d67de08",
   "metadata": {},
   "source": [
    "### 7. Visualizing Room Type Distribution\n",
    "\n",
    "I visualize the distribution of different room types in the dataset using a bar chart. This helps us understand which types of rooms are most common on Airbnb."
   ]
  },
  {
   "cell_type": "code",
   "execution_count": 157,
   "id": "5d3b0305-ce13-4ba9-9309-fb22a56151ee",
   "metadata": {},
   "outputs": [
    {
     "data": {
      "image/png": "[encoded data removed]",
      "text/plain": [
       "<Figure size 800x600 with 1 Axes>"
      ]
     },
     "metadata": {},
     "output_type": "display_data"
    }
   ],
   "source": [
    "# Distribution of Room Types\n",
    "room_type_counts = room['room_type'].value_counts()\n",
    "\n",
    "# Bar plot for room type distribution\n",
    "room_type_counts.plot(kind='bar', figsize=(8,6), title='Distribution of Room Types', color = 'blue')\n",
    "plt.ylabel('Number of Listings')\n",
    "plt.show()"
   ]
  },
  {
   "cell_type": "markdown",
   "id": "7f3dcf07-e18a-4b53-bdf2-8f8ddab210c2",
   "metadata": {},
   "source": [
    "### 8. Calculating the Average Price\n",
    "\n",
    "To calculate the average listing price, I clean the price column by removing unwanted text and converting it to numeric values. The average price is then computed and rounded to two decimal places."
   ]
  },
  {
   "cell_type": "code",
   "execution_count": 160,
   "id": "b61918a7-c389-482d-b61b-277ddb2f616f",
   "metadata": {},
   "outputs": [
    {
     "name": "stdout",
     "output_type": "stream",
     "text": [
      "Average price of listing: 141.78\n"
     ]
    }
   ],
   "source": [
    "# Clean the 'price' column and calculate average price\n",
    "price['price'] = price['price'].replace('dollars', '', regex=True).astype(float)\n",
    "average_price = price['price'].mean()\n",
    "\n",
    "# Round the average price to two decimal places\n",
    "average_price = round(average_price,2)\n",
    "\n",
    "print(f\"Average price of listing: {average_price}\")"
   ]
  },
  {
   "cell_type": "markdown",
   "id": "f7e3c542-e210-49da-986a-b1735adfeea8",
   "metadata": {},
   "source": [
    "### 9. Visualizing Review Trends Over Time\n",
    "\n",
    "I analyze the number of reviews over time to track user engagement trends. A line plot is used to visualize the number of reviews per day."
   ]
  },
  {
   "cell_type": "code",
   "execution_count": 163,
   "id": "ac5719d6-feec-47ce-9dd6-e87c3c3b8332",
   "metadata": {},
   "outputs": [
    {
     "data": {
      "image/png": "[encoded data removed]",
      "text/plain": [
       "<Figure size 1000x600 with 1 Axes>"
      ]
     },
     "metadata": {},
     "output_type": "display_data"
    }
   ],
   "source": [
    "# Group by review date and count the number of reviews per day\n",
    "reviews_over_time = review.groupby('last_review').size()\n",
    "\n",
    "# Line plot for review trends over time\n",
    "reviews_over_time.plot(kind='line', figsize=(10,6), title='Review Trends Over Time')\n",
    "plt.ylabel('Number of Reviews')\n",
    "plt.xlabel('Date')\n",
    "plt.show()"
   ]
  },
  {
   "cell_type": "markdown",
   "id": "65c19fac-207b-45eb-aed3-11184d9eeba1",
   "metadata": {},
   "source": [
    "### 10. Creating the Final DataFrame\n",
    "\n",
    "Finally, I summarize the key insights (first and last review dates, number of private rooms, and average price) into a single-row DataFrame called review_dates."
   ]
  },
  {
   "cell_type": "code",
   "execution_count": 168,
   "id": "dbc03787-180f-477e-8e9d-3202d796c9f9",
   "metadata": {},
   "outputs": [
    {
     "data": {
      "text/html": [
       "<div>\n",
       "<style scoped>\n",
       "    .dataframe tbody tr th:only-of-type {\n",
       "        vertical-align: middle;\n",
       "    }\n",
       "\n",
       "    .dataframe tbody tr th {\n",
       "        vertical-align: top;\n",
       "    }\n",
       "\n",
       "    .dataframe thead th {\n",
       "        text-align: right;\n",
       "    }\n",
       "</style>\n",
       "<table border=\"1\" class=\"dataframe\">\n",
       "  <thead>\n",
       "    <tr style=\"text-align: right;\">\n",
       "      <th></th>\n",
       "      <th>first_reviewed</th>\n",
       "      <th>last_reviewed</th>\n",
       "      <th>nb_private_rooms</th>\n",
       "      <th>average_price</th>\n",
       "    </tr>\n",
       "  </thead>\n",
       "  <tbody>\n",
       "    <tr>\n",
       "      <th>0</th>\n",
       "      <td>2019-01-01</td>\n",
       "      <td>2019-07-09</td>\n",
       "      <td>11356</td>\n",
       "      <td>141.78</td>\n",
       "    </tr>\n",
       "  </tbody>\n",
       "</table>\n",
       "</div>"
      ],
      "text/plain": [
       "  first_reviewed last_reviewed  nb_private_rooms  average_price\n",
       "0     2019-01-01    2019-07-09             11356         141.78"
      ]
     },
     "execution_count": 168,
     "metadata": {},
     "output_type": "execute_result"
    }
   ],
   "source": [
    "# Create a DataFrame with the solution values\n",
    "data = {\n",
    "    'first_reviewed': [first_reviewed],\n",
    "    'last_reviewed': [last_reviewed],\n",
    "    'nb_private_rooms': [private_room_count],\n",
    "    'average_price': [average_price] }\n",
    "\n",
    "# Create the review_dates DataFrame\n",
    "review_dates = pd.DataFrame(data)\n",
    "review_dates"
   ]
  },
  {
   "cell_type": "markdown",
   "id": "0e91c988-3470-4c94-af7d-032640088bcf",
   "metadata": {},
   "source": [
    "## Key Findings\n",
    "\n",
    "1. **Room Type Distribution**: I found that entire home or apartment is the most common room type in the dataset.\n",
    "2. **Average Price**: The average price for Airbnb listings is approximately $141.78.\n",
    "3. **Review Trends**: The review trends show a steady increase in user engagement from January until July, indicating a peak in activity during the mid-year, likely due to increased travel in summer. However, the drop in reviews toward the end of the year suggests a decline in activity, potentially due to off-peak travel periods or seasonal factors.\n",
    "4. **Summary DataFrame**: The review_dates DataFrame consolidates the most important metrics."
   ]
  },
  {
   "cell_type": "markdown",
   "id": "7db267a8-dc86-4bd3-9c8e-265f6438d55e",
   "metadata": {},
   "source": [
    "## Conclusion\n",
    "\n",
    "This project provides valuable insights into the Airbnb market, including room type distribution, pricing, and review trends. These findings can guide Airbnb hosts, investors, or analysts in making informed decisions about the short-term rental market.\n",
    "\n",
    "By combining data analysis and visualization, this project demonstrates essential skills in data manipulation, cleaning, and presentation."
   ]
  }
 ],
 "metadata": {
  "kernelspec": {
   "display_name": "Python 3 (ipykernel)",
   "language": "python",
   "name": "python3"
  },
  "language_info": {
   "codemirror_mode": {
    "name": "ipython",
    "version": 3
   },
   "file_extension": ".py",
   "mimetype": "text/x-python",
   "name": "python",
   "nbconvert_exporter": "python",
   "pygments_lexer": "ipython3",
   "version": "3.12.4"
  }
 },
 "nbformat": 4,
 "nbformat_minor": 5
}
